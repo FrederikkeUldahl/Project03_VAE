{
  "cells": [
    {
      "cell_type": "code",
      "execution_count": null,
      "metadata": {
        "id": "KJAnVNM2m8Jp"
      },
      "outputs": [],
      "source": [
        "from typing import *\n",
        "import matplotlib\n",
        "import matplotlib.pyplot as plt\n",
        "from IPython.display import Image, display, clear_output\n",
        "import numpy as np\n",
        "%matplotlib nbagg\n",
        "%matplotlib inline\n",
        "import seaborn as sns\n",
        "import pandas as pd\n",
        "sns.set_style(\"whitegrid\")\n",
        "from torch.distributions.bernoulli import Bernoulli"
      ]
    },
    {
      "cell_type": "code",
      "execution_count": null,
      "metadata": {
        "colab": {
          "base_uri": "https://localhost:8080/"
        },
        "id": "i-pqkDyT5tCH",
        "outputId": "94e30161-7b4c-4d74-8e88-01b8625dbabd"
      },
      "outputs": [
        {
          "name": "stdout",
          "output_type": "stream",
          "text": [
            "Python 3.8.15\n"
          ]
        }
      ],
      "source": [
        "!python --version"
      ]
    },
    {
      "cell_type": "code",
      "execution_count": null,
      "metadata": {
        "id": "G_Jv3Emcm8Ju"
      },
      "outputs": [],
      "source": [
        "import math \n",
        "import torch\n",
        "from torch import nn, Tensor\n",
        "from torch.nn.functional import softplus\n",
        "from torch.distributions import Distribution\n",
        "\n",
        "\n",
        "class ReparameterizedDiagonalGaussian(Distribution):\n",
        "    \"\"\"\n",
        "    A distribution `N(y | mu, sigma I)` compatible with the reparameterization trick given `epsilon ~ N(0, 1)`.\n",
        "    \"\"\"\n",
        "    def __init__(self, mu: Tensor, log_sigma:Tensor):\n",
        "        assert mu.shape == log_sigma.shape, f\"Tensors `mu` : {mu.shape} and ` log_sigma` : {log_sigma.shape} must be of the same shape\"\n",
        "        self.mu = mu\n",
        "        #self.sigma = log_sigma.exp()\n",
        "        self.sigma = torch.exp(log_sigma)\n",
        "        #self.sigma = torch.exp(log_sigma - torch.max(log_sigma)) / torch.sum(torch.exp(log_sigma - torch.max(log_sigma)))\n",
        "        #self.sigma = log_sigma\n",
        "\n",
        "        \n",
        "    def sample_epsilon(self) -> Tensor:\n",
        "        \"\"\"`\\eps ~ N(0, I)`\"\"\"\n",
        "        return torch.empty_like(self.mu).normal_()\n",
        "        \n",
        "    def sample(self) -> Tensor:\n",
        "        \"\"\"sample `z ~ N(z | mu, sigma)` (without gradients)\"\"\"\n",
        "        with torch.no_grad():\n",
        "            return self.rsample()\n",
        "        \n",
        "    def rsample(self) -> Tensor:\n",
        "        \"\"\"sample `z ~ N(z | mu, sigma)` (with the reparameterization trick) \"\"\"\n",
        "        return self.sample_epsilon()*self.sigma + self.mu\n",
        "        #raise NotImplementedError # <- your code\n",
        "    \n",
        "    def log_prob(self, z:Tensor) -> Tensor:\n",
        "        \"\"\"return the log probability: log `p(z)`\"\"\"\n",
        "        return -1/2*torch.log(self.sigma**2*2*math.pi)-1/2*((z-self.mu)/self.sigma)**2 #log of a gaussian distribution - reduced\n",
        "        #raise NotImplementedError # <- your code"
      ]
    },
    {
      "cell_type": "markdown",
      "metadata": {
        "id": "OTU_sZoLRhgc"
      },
      "source": [
        "## READ DATA"
      ]
    },
    {
      "cell_type": "code",
      "execution_count": null,
      "metadata": {
        "colab": {
          "base_uri": "https://localhost:8080/"
        },
        "id": "zW_E6WOM58Wa",
        "outputId": "c0a74c63-f83e-4716-c4c4-68044d388179"
      },
      "outputs": [
        {
          "name": "stdout",
          "output_type": "stream",
          "text": [
            "Looking in indexes: https://pypi.org/simple, https://us-python.pkg.dev/colab-wheels/public/simple/\n",
            "Collecting pickle5\n",
            "  Downloading pickle5-0.0.11.tar.gz (132 kB)\n",
            "\u001b[K     |████████████████████████████████| 132 kB 4.9 MB/s \n",
            "\u001b[?25hBuilding wheels for collected packages: pickle5\n",
            "  Building wheel for pickle5 (setup.py) ... \u001b[?25l\u001b[?25hdone\n",
            "  Created wheel for pickle5: filename=pickle5-0.0.11-cp38-cp38-linux_x86_64.whl size=236295 sha256=0f1d89a5dcae773a0a7af0d97becc3aad45684e3030182f74c96b61b5cbb74a3\n",
            "  Stored in directory: /root/.cache/pip/wheels/25/d4/61/dbd8edd1a0d656be7b4267c85db3b61951eb60016a0154a122\n",
            "Successfully built pickle5\n",
            "Installing collected packages: pickle5\n",
            "Successfully installed pickle5-0.0.11\n"
          ]
        }
      ],
      "source": [
        "pip install pickle5"
      ]
    },
    {
      "cell_type": "code",
      "execution_count": null,
      "metadata": {
        "colab": {
          "base_uri": "https://localhost:8080/"
        },
        "id": "9Lgihs_s_w8c",
        "outputId": "5ebcea71-979a-42e9-8dcd-3950719ec9a6"
      },
      "outputs": [
        {
          "output_type": "stream",
          "name": "stdout",
          "text": [
            "Mounted at /content/drive\n"
          ]
        }
      ],
      "source": [
        "#Mount drive\n",
        "import os.path\n",
        "from os import path\n",
        "\n",
        "from google.colab import drive\n",
        "drive.mount('/content/drive')"
      ]
    },
    {
      "cell_type": "code",
      "execution_count": null,
      "metadata": {
        "colab": {
          "base_uri": "https://localhost:8080/"
        },
        "id": "8pG5dkLmx-5l",
        "outputId": "4bb0bf81-50ac-4f52-ac5a-8fcf4dac0a9a"
      },
      "outputs": [
        {
          "name": "stdout",
          "output_type": "stream",
          "text": [
            "1.3.5\n"
          ]
        }
      ],
      "source": [
        "import pickle5 as pickle\n",
        "\n",
        "import pandas as pd\n",
        "print(pd.__version__)\n",
        "\n",
        "path = \"/content/drive/My Drive/ColabNotebooks/projekt03/data_10000_images_v_135.pkl\" #Directory Frederikke\n",
        "#path = \"/content/drive/My Drive/projekt03/data_10000_images_v_135.pkl\" # Directory Jonathan\n",
        "#path = \"/content/drive/My Drive/ColabNotebooks/projekt03/data_10000_images_v_135.pkl\" # Directory Johanne\n",
        "\n",
        "with open(path, \"rb\") as fh:\n",
        "  subset = pickle.load(fh)"
      ]
    },
    {
      "cell_type": "code",
      "execution_count": null,
      "metadata": {
        "colab": {
          "base_uri": "https://localhost:8080/"
        },
        "id": "KyMsBlpLgI51",
        "outputId": "0d437e42-177f-4d78-ca29-1fae55e65ef1"
      },
      "outputs": [
        {
          "data": {
            "text/plain": [
              "dtype('int64')"
            ]
          },
          "execution_count": 7,
          "metadata": {},
          "output_type": "execute_result"
        }
      ],
      "source": [
        "#convet labels into int\n",
        "labels_names = subset.moa.unique()\n",
        "label_to_label_id = {}\n",
        "for i in range(len(labels_names)):\n",
        "    label_to_label_id[labels_names[i]] = i\n",
        "\n",
        "subset[\"labels_ID\"] = subset.apply(lambda row: label_to_label_id[row.moa], axis=1)\n",
        "subset[\"labels_ID\"].dtypes"
      ]
    },
    {
      "cell_type": "code",
      "execution_count": null,
      "metadata": {
        "colab": {
          "base_uri": "https://localhost:8080/"
        },
        "id": "Ur4hrBrVAq5i",
        "outputId": "fdd330ac-e35f-4081-b31a-da600278729b"
      },
      "outputs": [
        {
          "name": "stdout",
          "output_type": "stream",
          "text": [
            "(10010, 2)\n"
          ]
        }
      ],
      "source": [
        "#make new dataframe that dataloader can read\n",
        "data = subset[['Images','labels_ID']].copy()\n",
        "print(data.shape)"
      ]
    },
    {
      "cell_type": "code",
      "execution_count": null,
      "metadata": {
        "id": "C99UVJfyRRSC"
      },
      "outputs": [],
      "source": [
        "#make dataset class\n",
        "#https://pytorch.org/tutorials/beginner/basics/data_tutorial.html\n",
        "\n",
        "import os\n",
        "import pandas as pd\n",
        "from torchvision.io import read_image\n",
        "import torch\n",
        "from torch.utils.data import Dataset\n",
        "from torchvision import datasets\n",
        "from torchvision.transforms import ToTensor\n",
        "import matplotlib.pyplot as plt\n",
        "\n",
        "class BBBC(Dataset):\n",
        "    def __init__(self, annotations_file,typeFlag, transform=None, target_transform=None):\n",
        "        self.transform = transform\n",
        "        self.target_transform = target_transform\n",
        "        \n",
        "        train_size = int(np.ceil(0.6*annotations_file.shape[0]))\n",
        "        test_size = int(np.ceil(0.2*annotations_file.shape[0]))\n",
        "\n",
        "        img_labels = annotations_file\n",
        "\n",
        "        if typeFlag == 'train':\n",
        "          img_labels = annotations_file.iloc[0:train_size]\n",
        "        elif typeFlag == 'test':\n",
        "          img_labels = annotations_file.tail(test_size)\n",
        "        elif typeFlag == 'validation':\n",
        "          img_labels = annotations_file.iloc[train_size:train_size+test_size]\n",
        "        \n",
        "        self.img_labels = img_labels\n",
        "\n",
        "    def __len__(self):\n",
        "        return len(self.img_labels)\n",
        "\n",
        "    def __getitem__(self, idx):\n",
        "        image = self.img_labels.iloc[idx, 0]\n",
        "        \n",
        "        label = self.img_labels.iloc[idx, 1]\n",
        "        \n",
        "        if self.transform:\n",
        "            image = self.transform(image)\n",
        "        if self.target_transform:\n",
        "            label = self.target_transform(label)\n",
        "        \n",
        "        image = image.view(-1).type(torch.FloatTensor)\n",
        "        image = (image-image.min())/(image.max()-image.min())\n",
        "        image = image.view(3,68,68).type(torch.FloatTensor)\n",
        "\n",
        "        return image, int(label)"
      ]
    },
    {
      "cell_type": "code",
      "execution_count": null,
      "metadata": {
        "id": "ANBxstrNtpFv"
      },
      "outputs": [],
      "source": [
        "class Flatten(nn.Module):\n",
        "    def forward(self, input):\n",
        "        flattend = input.view(input.size(0), -1)\n",
        "        #dim = flattend[1].size()[0]\n",
        "        #return flattend, dim\n",
        "        return flattend"
      ]
    },
    {
      "cell_type": "code",
      "execution_count": null,
      "metadata": {
        "id": "-GM56tDetrWT"
      },
      "outputs": [],
      "source": [
        "class UnFlatten(nn.Module):\n",
        "    def forward(self, input, size=4624):\n",
        "        return input.view(input.size(0), 68, 68, 3)"
      ]
    },
    {
      "cell_type": "code",
      "execution_count": null,
      "metadata": {
        "id": "bjw0kHMam8Jx"
      },
      "outputs": [],
      "source": [
        "class VariationalAutoencoder(nn.Module):\n",
        "    \"\"\"A Variational Autoencoder with\n",
        "    * a Bernoulli observation model `p_\\theta(x | z) = B(x | g_\\theta(z))`\n",
        "    * a Gaussian prior `p(z) = N(z | 0, I)`\n",
        "    * a Gaussian posterior `q_\\phi(z|x) = N(z | \\mu(x), \\sigma(x))`\n",
        "    \"\"\"\n",
        "    \n",
        "    def __init__(self, input_shape:torch.Size, latent_features:int) -> None:\n",
        "        super(VariationalAutoencoder, self).__init__()\n",
        "        \n",
        "        self.input_shape = input_shape\n",
        "        self.latent_features = latent_features\n",
        "        self.observation_features = np.prod(input_shape)\n",
        "        self.flat = Flatten()\n",
        "\n",
        "        # Inference Network\n",
        "        # Encode the observation `x` into the parameters of the posterior distribution\n",
        "        # `q_\\phi(z|x) = N(z | \\mu(x), \\sigma(x)), \\mu(x),\\log\\sigma(x) = h_\\phi(x)`\n",
        "        self.CNNencoder = nn.Sequential(\n",
        "            nn.Conv2d(3,12,3,padding=1),\n",
        "            nn.BatchNorm2d(12),\n",
        "            nn.ReLU(),\n",
        "            torch.nn.Dropout(0.1),\n",
        "            nn.Conv2d(12,12,3,padding=1),\n",
        "            nn.ReLU(),\n",
        "            nn.MaxPool2d(2,2),\n",
        "            torch.nn.Dropout(0.1),\n",
        "            nn.Conv2d(12, 64, 3),\n",
        "            nn.BatchNorm2d(64),\n",
        "            nn.ReLU(),\n",
        "            nn.MaxPool2d(2,2),\n",
        "            \n",
        "            Flatten()\n",
        "        )\n",
        "        \n",
        "        ''' old CNN layers, if this is commented back in the first linear layer should be changed to 'in_features=5780'\n",
        "        self.CNNencoder = nn.Sequential(\n",
        "            nn.Conv2d(3,10,3,padding=1),\n",
        "            nn.BatchNorm2d(10),\n",
        "            nn.MaxPool2d(2,2),\n",
        "            nn.ReLU(),\n",
        "\n",
        "            nn.Conv2d(10, 20, 3, padding=1),\n",
        "            nn.BatchNorm2d(20),\n",
        "            nn.MaxPool2d(2,2),\n",
        "            nn.ReLU(),\n",
        "            Flatten()\n",
        "        )\n",
        "        '''\n",
        "\n",
        "        self.encoder_linear = nn.Sequential(\n",
        "            nn.Linear(in_features=16384, out_features=256),\n",
        "            nn.ReLU(),\n",
        "            nn.Linear(in_features=256, out_features=128),\n",
        "            nn.ReLU(),\n",
        "            # A Gaussian is fully characterised by its mean \\mu and variance \\sigma**2\n",
        "            nn.Linear(in_features=128, out_features=2*latent_features) # <- note the 2*latent_features\n",
        "        )\n",
        "\n",
        "        # Generative Model\n",
        "        # Decode the latent sample `z` into the parameters of the observation model\n",
        "        # `p_\\theta(x | z) = \\prod_i B(x_i | g_\\theta(x))`\n",
        "        self.decoder = nn.Sequential(\n",
        "            nn.Linear(in_features=latent_features, out_features=128),\n",
        "            nn.ReLU(),\n",
        "            nn.Linear(in_features=128, out_features=256),\n",
        "            nn.ReLU(),\n",
        "            nn.Linear(in_features=256, out_features=self.observation_features)\n",
        "        )\n",
        "        \n",
        "        # define the parameters of the prior, chosen as p(z) = N(0, I)\n",
        "        self.register_buffer('prior_params', torch.zeros(torch.Size([1, 2*latent_features])))\n",
        "\n",
        "    def posterior(self, x:Tensor) -> Distribution:\n",
        "        \"\"\"return the distribution `q(x|x) = N(z | \\mu(x), \\sigma(x))`\"\"\"\n",
        "        \n",
        "        # compute the parameters of the posterior\n",
        "        h_x = self.CNNencoder(x)\n",
        "        h_x = self.encoder_linear(h_x)\n",
        "        mu, log_sigma =  h_x.chunk(2, dim=-1)\n",
        "        \n",
        "        # return a distribution `q(x|x) = N(z | \\mu(x), \\sigma(x))`\n",
        "        return ReparameterizedDiagonalGaussian(mu, log_sigma)\n",
        "    \n",
        "    def prior(self, batch_size:int=1)-> Distribution:\n",
        "        \"\"\"return the distribution `p(z)`\"\"\"\n",
        "        prior_params = self.prior_params.expand(batch_size, *self.prior_params.shape[-1:])\n",
        "        mu, log_sigma = prior_params.chunk(2, dim=-1)\n",
        "        \n",
        "        # return the distribution `p(z)`\n",
        "        return ReparameterizedDiagonalGaussian(mu, log_sigma)\n",
        "    \n",
        "    def observation_model(self, z:Tensor) -> Distribution:\n",
        "        \"\"\"return the distribution `p(x|z)`\"\"\"\n",
        "        px_logits = self.decoder(z)\n",
        "        px_logits = px_logits.view(-1, *self.input_shape) # reshape the output\n",
        "        return Bernoulli(logits=px_logits, validate_args=False)\n",
        "        \n",
        "\n",
        "    def forward(self, x) -> Dict[str, Any]:\n",
        "        \"\"\"compute the posterior q(z|x) (encoder), sample z~q(z|x) and return the distribution p(x|z) (decoder)\"\"\"\n",
        "        \n",
        "        # flatten the input\n",
        "        #x = x.view(x.size(0), -1)\n",
        "        \n",
        "        # define the posterior q(z|x) / encode x into q(z|x)\n",
        "        qz = self.posterior(x) # an opject of ReparameterizedDiagonalGaussian\n",
        "        \n",
        "        # define the prior p(z)\n",
        "        pz = self.prior(batch_size=x.size(0))\n",
        "        \n",
        "        # sample the posterior using the reparameterization trick: z ~ q(z | x)\n",
        "        z = qz.rsample()\n",
        "        \n",
        "        # define the observation model p(x|z) = B(x | g(z))\n",
        "        px = self.observation_model(z)\n",
        "        \n",
        "        return {'px': px, 'pz': pz, 'qz': qz, 'z': z}\n",
        "    \n",
        "    \n",
        "    def sample_from_prior(self, batch_size:int=100):\n",
        "        \"\"\"sample z~p(z) and return p(x|z)\"\"\"\n",
        "        \n",
        "        # degine the prior p(z)\n",
        "        pz = self.prior(batch_size=batch_size)\n",
        "        \n",
        "        # sample the prior \n",
        "        z = pz.rsample()\n",
        "        \n",
        "        # define the observation model p(x|z) = B(x | g(z))\n",
        "        px = self.observation_model(z)\n",
        "        \n",
        "        return {'px': px, 'pz': pz, 'z': z}"
      ]
    },
    {
      "cell_type": "code",
      "execution_count": null,
      "metadata": {
        "id": "2tYiWZe2m8Jy"
      },
      "outputs": [],
      "source": [
        "def reduce(x:Tensor) -> Tensor:\n",
        "    \"\"\"for each datapoint: sum over all dimensions\"\"\"\n",
        "    return x.view(x.size(0), -1).sum(dim=1)\n",
        "\n",
        "class VariationalInference(nn.Module):\n",
        "    def __init__(self, beta:float=1.):\n",
        "        super().__init__()\n",
        "        self.beta = beta\n",
        "        \n",
        "    def forward(self, model:nn.Module, x:Tensor) -> Tuple[Tensor, Dict]:\n",
        "        # forward pass through the model\n",
        "        outputs = model(x)\n",
        "        \n",
        "        # unpack outputs\n",
        "        px, pz, qz, z = [outputs[k] for k in [\"px\", \"pz\", \"qz\", \"z\"]]\n",
        "        \n",
        "        # evaluate log probabilities\n",
        "        log_px = reduce(px.log_prob(x))\n",
        "        log_pz = reduce(pz.log_prob(z))\n",
        "        log_qz = reduce(qz.log_prob(z))\n",
        "        \n",
        "        # compute the ELBO with and without the beta parameter: \n",
        "        # `L^\\beta = E_q [ log p(x|z) ] - \\beta * D_KL(q(z|x) | p(z))`\n",
        "        # where `D_KL(q(z|x) | p(z)) = log q(z|x) - log p(z)`\n",
        "        kl = log_qz - log_pz\n",
        "        elbo = log_px - kl # <- your code here\n",
        "        beta_elbo = log_px - self.beta*kl # <- your code here\n",
        "        \n",
        "        # loss\n",
        "        loss = -beta_elbo.mean()\n",
        "        \n",
        "        # prepare the output\n",
        "        with torch.no_grad():\n",
        "            diagnostics = {'elbo': elbo, 'log_px':log_px, 'kl': kl}\n",
        "            \n",
        "        return loss, diagnostics, outputs\n",
        "        "
      ]
    },
    {
      "cell_type": "code",
      "source": [
        "from torch.utils.data import DataLoader\n",
        "from collections import defaultdict\n",
        "from sklearn.model_selection import cross_val_score, LeaveOneOut\n",
        "from sklearn import svm\n",
        "\n",
        "from sklearn.metrics import confusion_matrix\n",
        "from sklearn.model_selection import cross_val_predict\n",
        "from sklearn.metrics import confusion_matrix, ConfusionMatrixDisplay\n",
        "import matplotlib.pyplot as plt\n",
        "\n",
        "cvscores_all = []\n",
        "\n",
        "flat = Flatten()\n",
        "unflat = UnFlatten()\n",
        "\n",
        "cvscores_all = []\n",
        "\n",
        "data = data.sample(frac=1).reset_index(drop=True)\n",
        "\n",
        "def relocate(data):\n",
        "  top = data.iloc[0:(int(len(data)/10))]\n",
        "  botton = data.iloc[(int(len(data)/10)):]\n",
        "  return pd.concat([botton,top]).reset_index(drop=True)\n",
        "\n",
        "for lf in range(2,22,2):\n",
        "  for i in range(10):\n",
        "\n",
        "      print(f\"Latent Features: {lf} Model: {i}\")\n",
        "      data = relocate(data)\n",
        "\n",
        "      dset_train = BBBC(data,\"train\")\n",
        "      dset_test = BBBC(data,\"test\")\n",
        "      dset_validation = BBBC(data,\"validation\")\n",
        "\n",
        "      batch_size = 128\n",
        "\n",
        "      train_loader = DataLoader(dset_train,batch_size=batch_size)\n",
        "      test_loader = DataLoader(dset_test,batch_size=batch_size)\n",
        "      validation_loader = DataLoader(dset_validation,batch_size=len(dset_validation))\n",
        "\n",
        "      images, labels = next(iter(train_loader))\n",
        "\n",
        "      latent_features = lf\n",
        "\n",
        "      # VAE\n",
        "      vae = VariationalAutoencoder(images[0].shape, latent_features)\n",
        "\n",
        "      # Evaluator: Variational Inference\n",
        "      beta = 1\n",
        "      vi = VariationalInference(beta=beta)\n",
        "\n",
        "      # The Adam optimizer works really well with VAEs.\n",
        "      optimizer = torch.optim.Adam(vae.parameters(), lr=1e-3)\n",
        "\n",
        "      # define dictionary to store the training curves\n",
        "      training_data = defaultdict(list)\n",
        "      validation_data = defaultdict(list)\n",
        "\n",
        "      num_epochs = 60\n",
        "      epoch = 0\n",
        "\n",
        "      device = torch.device(\"cuda:0\" if torch.cuda.is_available() else \"cpu\")\n",
        "      print(f\">> Using device: {device}\")\n",
        "\n",
        "      # move the model to the device\n",
        "      vae = vae.to(device)\n",
        "\n",
        "      # training..\n",
        "      while epoch < num_epochs:\n",
        "          epoch+= 1\n",
        "          if epoch%10 == 0:\n",
        "            print(f\"Epoch: {epoch}/{num_epochs}\")\n",
        "          \n",
        "          training_epoch_data = defaultdict(list)\n",
        "          vae.train()\n",
        "          \n",
        "          # Go through each batch in the training dataset using the loader\n",
        "          # Note that y is not necessarily known as it is here\n",
        "          for x, y in train_loader:\n",
        "              x = x.to(device)\n",
        "              \n",
        "              # perform a forward pass through the model and compute the ELBO\n",
        "              loss, diagnostics, outputs = vi(vae, x)\n",
        "              \n",
        "              optimizer.zero_grad()\n",
        "              loss.backward()\n",
        "              optimizer.step()\n",
        "              \n",
        "              # gather data for the current bach\n",
        "              for k, v in diagnostics.items():\n",
        "                  training_epoch_data[k] += [v.mean().item()]\n",
        "                  \n",
        "\n",
        "          # gather data for the full epoch\n",
        "          for k, v in training_epoch_data.items():\n",
        "              training_data[k] += [np.mean(training_epoch_data[k])]\n",
        "\n",
        "          # Evaluate on a single batch, do not propagate gradients\n",
        "          with torch.no_grad():\n",
        "              vae.eval()\n",
        "              \n",
        "              # Just load a single batch from the test loader\n",
        "              x, y = next(iter(test_loader))\n",
        "              x = x.to(device)\n",
        "              \n",
        "              # perform a forward pass through the model and compute the ELBO\n",
        "              loss, diagnostics, outputs = vi(vae, x)\n",
        "              \n",
        "              # gather data for the validation step\n",
        "              for k, v in diagnostics.items():\n",
        "                  validation_data[k] += [v.mean().item()]\n",
        "\n",
        "      fig, axes = plt.subplots(1, 3, figsize=(29,9), squeeze=False)\n",
        "\n",
        "      # plot ELBO\n",
        "      ax = axes[0, 0]\n",
        "      ax.set_title(r'ELBO: $\\mathcal{L} ( \\mathbf{x} )$')\n",
        "      ax.plot(training_data['elbo'], label='Training')\n",
        "      ax.plot(validation_data['elbo'], label='Validation')\n",
        "      ax.legend()\n",
        "\n",
        "      # plot KL\n",
        "      ax = axes[0, 1]\n",
        "      ax.set_title(r'$\\mathcal{D}_{\\operatorname{KL}}\\left(q_\\phi(\\mathbf{z}|\\mathbf{x})\\ |\\ p(\\mathbf{z})\\right)$')\n",
        "      ax.plot(training_data['kl'], label='Training')\n",
        "      ax.plot(validation_data['kl'], label='Validation')\n",
        "      ax.legend()\n",
        "\n",
        "      # plot NLL\n",
        "      ax = axes[0, 2]\n",
        "      ax.set_title(r'$\\log p_\\theta(\\mathbf{x} | \\mathbf{z})$')\n",
        "      ax.plot(training_data['log_px'], label='Training')\n",
        "      ax.plot(validation_data['log_px'], label='Validation')\n",
        "      ax.legend()\n",
        "\n",
        "      plt.savefig(f\"/content/drive/MyDrive/ColabNotebooks/projekt03/Plots/CNN{lf}EL.png\")\n",
        "      plt.savefig(f\"/content/drive/My Drive/projekt03/VAE_models/CNN{lf}El.png\") #Directory Jonathan\n",
        "      plt.show()\n",
        "\n",
        "      images, labels = next(iter(validation_loader))\n",
        "\n",
        "      #latentspace = vae.posterior(images.cuda()).rsample()\n",
        "      #latentspace = vae.posterior(images).rsample()\n",
        "      h_x = vae.CNNencoder(images.cuda())\n",
        "      h_x = vae.encoder_linear(h_x)\n",
        "      mu, log_sigma =  h_x.chunk(2, dim=-1)\n",
        "\n",
        "      clf = svm.SVC(kernel='linear',C=1, random_state=42)\n",
        "      cvscores = cross_val_score(clf, mu.tolist(), labels.tolist(), cv=10) # cv is number of folds\n",
        "\n",
        "      cvscores_all.append(cvscores)\n",
        "      print(cvscores)\n",
        "\n",
        "      y_true = labels.tolist()\n",
        "      y_pred = cross_val_predict(clf, mu.tolist(), labels.tolist(), cv=10)\n",
        "      cm = confusion_matrix(y_true, y_pred, normalize = 'true') #Normalizes confusion matrix over the true (rows)\n",
        "\n",
        "      #labels\n",
        "      def unique(tensor1d):\n",
        "          sorted_labels, idx = np.unique(tensor1d.numpy(), return_inverse=True)\n",
        "          return torch.from_numpy(sorted_labels), torch.from_numpy(idx)  \n",
        "      sorted_labels, idx = unique(torch.LongTensor(y_true))  \n",
        "\n",
        "      sorted_labels = labels_names[sorted_labels]\n",
        "\n",
        "      cmd_obj = ConfusionMatrixDisplay(cm, display_labels=sorted_labels)\n",
        "\n",
        "      fig, ax = plt.subplots(figsize=(18,18))\n",
        "      cmd_obj.plot(ax=ax)\n",
        "      cmd_obj.ax_.set(\n",
        "                      title=f\"Confusion matrix Latent space {lf}\", \n",
        "                      xlabel='Predicted labels', \n",
        "                      ylabel='Actual labels')\n",
        "      \n",
        "      plt.savefig(f\"/content/drive/MyDrive/ColabNotebooks/projekt03/VAE_models/CNN{lf}CM.png\") #Directory Frederikke\n",
        "      plt.show()\n",
        "\n",
        "      Jacobian = torch.cat([torch.autograd.functional.jacobian(vae.decoder, mu[i]) for i in range(10)])\n",
        "\n",
        "      j = np.abs(Jacobian.cpu().numpy())\n",
        "      jm = j.mean(axis = 0)\n",
        "      jv = j.var(axis=0)*1.96\n",
        "      x = np.arange(j.shape[1])\n",
        "      plt.plot(x, jm)\n",
        "      plt.fill_between(x,jm-jv,jm+jv, alpha=0.2)\n",
        "      plt.xlabel(\"Latent variables\")\n",
        "      plt.ylabel(\"Mean and variance of Jacobian\")\n",
        "\n",
        "      plt.savefig(f\"/content/drive/MyDrive/ColabNotebooks/projekt03/VAE_models/CNN{lf}Jac.png\")\n",
        "      plt.show()\n",
        "\n",
        "      #plotting reconstructed pictures\n",
        "      latentspace = vae.posterior(images.cuda()).mu\n",
        "\n",
        "      #plot a few examples\n",
        "      f, axarr = plt.subplots(3, 10, figsize=(16, 4))\n",
        "\n",
        "      # Load a batch of images into memory\n",
        "      for i, ax in enumerate(axarr.flat):\n",
        "          img = vae.observation_model(latentspace[i])\n",
        "          img = img.sample()\n",
        "          img = unflat(flat(img))\n",
        "          ax.imshow(Tensor.cpu(img[0]))\n",
        "          ax.axis('off')\n",
        "              \n",
        "      plt.suptitle('Reconstructed Cells!')\n",
        "      plt.savefig(f\"/content/drive/MyDrive/ColabNotebooks/projekt03/VAE_models/CNN{lf}Reconstructed.png\")\n",
        "      plt.show()\n",
        "\n",
        "      plot a few examples\n",
        "      f, axarr = plt.subplots(3, 10, figsize=(16, 4))\n",
        "\n",
        "      plotimages = flat(images)\n",
        "\n",
        "      unflat = UnFlatten()\n",
        "      plotimages = unflat(images)\n",
        "\n",
        "      # Load a batch of images into memory\n",
        "      for i, ax in enumerate(axarr.flat):\n",
        "          img = plotimages[i]\n",
        "          ax.imshow(img)\n",
        "          ax.axis('off')\n",
        "          \n",
        "      plt.suptitle('Original Cells!')\n",
        "      plt.savefig(f\"/content/drive/MyDrive/ColabNotebooks/projekt03/VAE_models/CNN{lf}OriginalCells.png\")\n",
        "      plt.show()"
      ],
      "metadata": {
        "id": "-CL9fkXIj_kK"
      },
      "execution_count": null,
      "outputs": []
    },
    {
      "cell_type": "code",
      "execution_count": null,
      "metadata": {
        "colab": {
          "base_uri": "https://localhost:8080/",
          "height": 462
        },
        "id": "jrRyxAuYttK0",
        "outputId": "ededdaf2-9eaf-4238-f2de-77ea64fe4b7b"
      },
      "outputs": [
        {
          "output_type": "stream",
          "name": "stdout",
          "text": [
            "(10, 10, 10)\n"
          ]
        },
        {
          "output_type": "display_data",
          "data": {
            "text/plain": [
              "<Figure size 800x480 with 1 Axes>"
            ],
            "image/png": "[encoded data removed]"
          },
          "metadata": {
            "needs_background": "light"
          }
        }
      ],
      "source": [
        "import numpy as np\n",
        "import matplotlib.pyplot as plt\n",
        "\n",
        "scorer = np.loadtxt(\"/content/drive/MyDrive/ColabNotebooks/projekt03/VAE_models/cnn_scores\")\n",
        "scorer = np.reshape(scorer, (10, 10, 10))\n",
        "print(scorer.shape)\n",
        "\n",
        "means = np.array([np.mean(i) for i in scorer])\n",
        "stds = np.array([np.std(i) for i in scorer])\n",
        "\n",
        "baseline_acc = [0.2784019975031211, 0.2958801498127341, 0.2815230961298377, 0.26279650436953805, 0.2690387016229713, 0.2746566791510612, 0.2565543071161049, 0.301498127340824, 0.2902621722846442, 0.2759051186017478]\n",
        "baseline_mean = np.mean(baseline_acc)\n",
        "baseline_std = np.std(baseline_acc)\n",
        "\n",
        "plt.figure(figsize=(10, 6), dpi=80)\n",
        "\n",
        "plt.plot (means)\n",
        "plt.fill_between(range(10),means-stds,means+stds,alpha=.1)\n",
        "plt.title(\"CNN VAE\")\n",
        "plt.xticks(range(10),[f\"{i}\" for i in range(2,20,2)])\n",
        "plt.xlabel(\"Size of latent space\")\n",
        "plt.ylabel(\"Mean accuracy of classifying\")\n",
        "plt.axhline(y = baseline_mean, color = 'r', linestyle = '-')\n",
        "plt.fill_between(range(10),baseline_mean-baseline_std,baseline_mean+baseline_std,alpha=.1)\n",
        "plt.show()"
      ]
    }
  ],
  "metadata": {
    "colab": {
      "provenance": []
    },
    "gpuClass": "standard",
    "kernelspec": {
      "display_name": "Python 3",
      "language": "python",
      "name": "python3"
    },
    "language_info": {
      "codemirror_mode": {
        "name": "ipython",
        "version": 3
      },
      "file_extension": ".py",
      "mimetype": "text/x-python",
      "name": "python",
      "nbconvert_exporter": "python",
      "pygments_lexer": "ipython3",
      "version": "3.9.12"
    }
  },
  "nbformat": 4,
  "nbformat_minor": 0
}